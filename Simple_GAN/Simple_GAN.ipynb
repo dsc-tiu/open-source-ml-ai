{
  "nbformat": 4,
  "nbformat_minor": 0,
  "metadata": {
    "colab": {
      "provenance": [],
      "gpuType": "T4",
      "authorship_tag": "ABX9TyPoDrHpMM4VK5Z1Dlz9n7zo"
    },
    "kernelspec": {
      "name": "python3",
      "display_name": "Python 3"
    },
    "language_info": {
      "name": "python"
    },
    "accelerator": "GPU"
  },
  "cells": [
    {
      "cell_type": "markdown",
      "source": [
        "Import the libraries"
      ],
      "metadata": {
        "id": "0qIG9WnLqybs"
      }
    },
    {
      "cell_type": "code",
      "execution_count": 1,
      "metadata": {
        "id": "6ysg5XXJqbt6"
      },
      "outputs": [],
      "source": [
        "import torch, pdb\n",
        "from torch.utils.data import DataLoader\n",
        "from torch import nn\n",
        "from torchvision import transforms\n",
        "from torchvision.datasets import MNIST\n",
        "from torchvision.utils import make_grid\n",
        "from tqdm.auto import tqdm\n",
        "import matplotlib.pyplot as plt"
      ]
    },
    {
      "cell_type": "markdown",
      "source": [
        "visualization function"
      ],
      "metadata": {
        "id": "xnk2KR32am_4"
      }
    },
    {
      "cell_type": "code",
      "source": [
        "def view(tensor,ch = 1 , size = (28,28) , num = 16):\n",
        "  data = tensor.detach().cpu().view(-1,ch,*size)\n",
        "  grid = make_grid(data[:num], nrow = 4).permute(1,2,0)\n",
        "  plt.imshow(grid)\n",
        "  plt.show()"
      ],
      "metadata": {
        "id": "eyQXmQpdaltT"
      },
      "execution_count": 2,
      "outputs": []
    },
    {
      "cell_type": "markdown",
      "source": [
        "setup of the main parameters and hyperparameters"
      ],
      "metadata": {
        "id": "Xw8uiLvUfRMG"
      }
    },
    {
      "cell_type": "code",
      "source": [
        "n_epochs = 200\n",
        "info_step = 108\n",
        "cur_step = 0\n",
        "mean_gen_loss = 0\n",
        "mean_disc_loss = 0\n",
        "bs = 128\n",
        "lr = 0.0001\n",
        "z_dim = 64\n",
        "loss = nn.BCEWithLogitsLoss()\n",
        "device = 'cuda'\n",
        "data = DataLoader(MNIST('.', download = True , transform= transforms.ToTensor()), batch_size = bs , shuffle = True)"
      ],
      "metadata": {
        "id": "MoOl2sA-bArJ"
      },
      "execution_count": 5,
      "outputs": []
    },
    {
      "cell_type": "markdown",
      "source": [
        "##declare our models\n",
        "\n",
        "\n"
      ],
      "metadata": {
        "id": "oSPH8xZ2fTHb"
      }
    },
    {
      "cell_type": "markdown",
      "source": [
        "Generator"
      ],
      "metadata": {
        "id": "iF_wjo_wfZ0V"
      }
    },
    {
      "cell_type": "code",
      "source": [
        "def genBlock(inp, out):\n",
        "  return nn.Sequential(\n",
        "      nn.Linear(inp, out),\n",
        "      nn.BatchNorm1d(out),\n",
        "      nn.ReLU(True)\n",
        "  )\n",
        "\n",
        "class Generator(nn.Module):\n",
        "  def __init__(self,z_dim = 64 , h_dim  = 128 , target = 784):\n",
        "    super().__init__()\n",
        "    self.gen = nn.Sequential(\n",
        "        genBlock(z_dim,  h_dim),\n",
        "        genBlock(h_dim, h_dim * 2),\n",
        "        genBlock(h_dim * 2 , h_dim * 4),\n",
        "        genBlock(h_dim * 4 , h_dim * 8),\n",
        "        genBlock(h_dim * 8 , h_dim * 4),\n",
        "        nn.Linear(h_dim * 4 , target),\n",
        "        nn.Sigmoid()\n",
        "    )\n",
        "\n",
        "  def forward(self,noise):\n",
        "    return self.gen(noise)"
      ],
      "metadata": {
        "id": "Jpfk59SkbZ6B"
      },
      "execution_count": 4,
      "outputs": []
    },
    {
      "cell_type": "markdown",
      "source": [
        "Noise Gen function"
      ],
      "metadata": {
        "id": "nXYCTzXpfd1M"
      }
    },
    {
      "cell_type": "code",
      "source": [
        "def genNoise(num , z_dim):\n",
        "  return torch.randn(num , z_dim).to(device)"
      ],
      "metadata": {
        "id": "Bp_VEpdfcGUO"
      },
      "execution_count": 6,
      "outputs": []
    },
    {
      "cell_type": "markdown",
      "source": [
        "Discriminator"
      ],
      "metadata": {
        "id": "caduJKhsfig-"
      }
    },
    {
      "cell_type": "code",
      "source": [
        "def discBlock(inp, out):\n",
        "  return nn.Sequential(\n",
        "      nn.Linear(inp, out),\n",
        "      nn.LeakyReLU(0.2)\n",
        "  )\n",
        "\n",
        "class Discriminator(nn.Module):\n",
        "\n",
        "  def __init__(self,h_dim = 256, i_dim  = 784):\n",
        "    super().__init__()\n",
        "    self.disc = nn.Sequential(\n",
        "        discBlock(i_dim , h_dim * 4),\n",
        "        discBlock(h_dim * 4 , h_dim * 8),\n",
        "        discBlock(h_dim * 8 ,h_dim * 4),\n",
        "        discBlock(h_dim *4 , 1)\n",
        "    )\n",
        "\n",
        "  def forward(self,image):\n",
        "    return self.disc(image)"
      ],
      "metadata": {
        "id": "zOl49VKRcYH2"
      },
      "execution_count": 8,
      "outputs": []
    },
    {
      "cell_type": "markdown",
      "source": [
        "define our models"
      ],
      "metadata": {
        "id": "OAKLwJ02fn_U"
      }
    },
    {
      "cell_type": "code",
      "source": [
        "gen = Generator(z_dim).to(device)\n",
        "gen_opt = torch.optim.Adam(gen.parameters() , lr = lr)\n",
        "disc = Discriminator().to(device)\n",
        "disc_opt = torch.optim.Adam(disc.parameters() , lr = lr)"
      ],
      "metadata": {
        "id": "pLQGzXypd_Ep"
      },
      "execution_count": 16,
      "outputs": []
    },
    {
      "cell_type": "markdown",
      "source": [
        "viewing smaple"
      ],
      "metadata": {
        "id": "Ig_akNlPgEaa"
      }
    },
    {
      "cell_type": "code",
      "source": [
        "x,y = next(iter(data))\n",
        "view(x)"
      ],
      "metadata": {
        "colab": {
          "base_uri": "https://localhost:8080/",
          "height": 434
        },
        "id": "gZinS1IZf4l9",
        "outputId": "768751ea-85a3-41a9-f62d-56341331791c"
      },
      "execution_count": 19,
      "outputs": [
        {
          "output_type": "display_data",
          "data": {
            "text/plain": [
              "<Figure size 640x480 with 1 Axes>"
            ],
            "image/png": "[encoded data removed]"
          },
          "metadata": {}
        }
      ]
    },
    {
      "cell_type": "markdown",
      "source": [
        "##calculating the loss"
      ],
      "metadata": {
        "id": "OOXvEXMVgHOm"
      }
    },
    {
      "cell_type": "markdown",
      "source": [
        "Generator loss"
      ],
      "metadata": {
        "id": "Y5KkWwFugLKR"
      }
    },
    {
      "cell_type": "code",
      "source": [
        "def calc_gen_loss(loss_func,gen,disc,num,z_dim):\n",
        "  noise = genNoise(num ,z_dim)\n",
        "  fake = gen(noise)\n",
        "  fake_disc_pred = disc(fake)\n",
        "  fake_disc_target = torch.ones_like(fake_disc_pred)\n",
        "  gen_loss = loss_func(fake_disc_pred,fake_disc_target)\n",
        "  return gen_loss"
      ],
      "metadata": {
        "id": "vBSMA-5dc1aG"
      },
      "execution_count": 10,
      "outputs": []
    },
    {
      "cell_type": "markdown",
      "source": [
        "Discriminator loss"
      ],
      "metadata": {
        "id": "diAnvDQsgO1Q"
      }
    },
    {
      "cell_type": "code",
      "source": [
        "def calc_disc_loss(loss_func,gen,disc,real,num,z_dim):\n",
        "  noise = genNoise(num,z_dim)\n",
        "  fake = gen(noise)\n",
        "  fake_pred = disc(fake.detach())\n",
        "  fake_target = torch.zeros_like(fake_pred)\n",
        "  fake_loss = loss_func(fake_pred,fake_target)\n",
        "\n",
        "  real_pred = disc(real)\n",
        "  real_target = torch.ones_like(real_pred)\n",
        "  real_loss = loss_func(real_pred,real_target)\n",
        "\n",
        "  disc_loss = (fake_loss + real_loss)/2\n",
        "  return disc_loss"
      ],
      "metadata": {
        "id": "7c4fYXxLdHaE"
      },
      "execution_count": 15,
      "outputs": []
    },
    {
      "cell_type": "markdown",
      "source": [
        "# **Training our model**\n",
        "\n",
        " 60000 / 128 = 468.75  = 469 steps in each epoch\n",
        "\n",
        " Each step is going to process 128 images = size of the batch (except the last step)\n"
      ],
      "metadata": {
        "id": "UHaQ-t1XgU6q"
      }
    },
    {
      "cell_type": "code",
      "source": [
        "for epoch in range(n_epochs):\n",
        "  for real,_ in tqdm(data):\n",
        "    #discriminator\n",
        "    disc_opt.zero_grad()\n",
        "    cur_bs = len(real)\n",
        "\n",
        "    real = real.view(cur_bs , -1)\n",
        "    real = real.to(device)\n",
        "    disc_loss = calc_disc_loss(loss,gen,disc,real,cur_bs,z_dim)\n",
        "    disc_loss.backward(retain_graph = True)\n",
        "    disc_opt.step()\n",
        "\n",
        "    ### generator\n",
        "    gen_opt.zero_grad()\n",
        "    gen_loss = calc_gen_loss(loss,gen,disc,cur_bs,z_dim)\n",
        "    gen_loss.backward(retain_graph = True)\n",
        "    gen_opt.step()\n",
        "\n",
        "    mean_gen_loss += gen_loss.item() / info_step\n",
        "    mean_disc_loss += disc_loss.item() / info_step\n",
        "\n",
        "    if cur_step % info_step == 0 and cur_step > 0:\n",
        "      noise = genNoise(cur_bs,z_dim)\n",
        "      fake = gen(noise)\n",
        "      view(fake)\n",
        "      view(real)\n",
        "      print(f\"Epoch :{epoch} , Step :{cur_step} , Generator Loss :{mean_gen_loss} , Discriminator Loss :{mean_disc_loss}\")\n",
        "      mean_gen_loss,mean_disc_loss = 0,0\n",
        "    cur_step += 1\n",
        "\n"
      ],
      "metadata": {
        "id": "48c7V0radtYp"
      },
      "execution_count": null,
      "outputs": []
    }
  ]
}